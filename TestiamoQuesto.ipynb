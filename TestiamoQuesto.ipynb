{
  "nbformat": 4,
  "nbformat_minor": 0,
  "metadata": {
    "colab": {
      "provenance": [],
      "gpuType": "T4",
      "authorship_tag": "ABX9TyMfZ7385ir3j7FpjxGGrDC3",
      "include_colab_link": true
    },
    "kernelspec": {
      "name": "python3",
      "display_name": "Python 3"
    },
    "language_info": {
      "name": "python"
    },
    "accelerator": "GPU",
    "widgets": {
      "application/vnd.jupyter.widget-state+json": {
        "2ee0778a9db348d7a82ac1e00f51c201": {
          "model_module": "@jupyter-widgets/controls",
          "model_name": "HBoxModel",
          "model_module_version": "1.5.0",
          "state": {
            "_dom_classes": [],
            "_model_module": "@jupyter-widgets/controls",
            "_model_module_version": "1.5.0",
            "_model_name": "HBoxModel",
            "_view_count": null,
            "_view_module": "@jupyter-widgets/controls",
            "_view_module_version": "1.5.0",
            "_view_name": "HBoxView",
            "box_style": "",
            "children": [
              "IPY_MODEL_459d2709534f47e396100c2039ed0e96",
              "IPY_MODEL_da34cbc2d7094d6db5d3dd9efd728693",
              "IPY_MODEL_4a0a90492e3848b8be4650342ea4380f"
            ],
            "layout": "IPY_MODEL_49c6e6aa811e41529053eec6847eb299"
          }
        },
        "459d2709534f47e396100c2039ed0e96": {
          "model_module": "@jupyter-widgets/controls",
          "model_name": "HTMLModel",
          "model_module_version": "1.5.0",
          "state": {
            "_dom_classes": [],
            "_model_module": "@jupyter-widgets/controls",
            "_model_module_version": "1.5.0",
            "_model_name": "HTMLModel",
            "_view_count": null,
            "_view_module": "@jupyter-widgets/controls",
            "_view_module_version": "1.5.0",
            "_view_name": "HTMLView",
            "description": "",
            "description_tooltip": null,
            "layout": "IPY_MODEL_abe2f725d204489297dc2b2d320599f5",
            "placeholder": "​",
            "style": "IPY_MODEL_ac5a716a13e24e0dacc9c5e55dfaa2b0",
            "value": "Loading checkpoint shards: 100%"
          }
        },
        "da34cbc2d7094d6db5d3dd9efd728693": {
          "model_module": "@jupyter-widgets/controls",
          "model_name": "FloatProgressModel",
          "model_module_version": "1.5.0",
          "state": {
            "_dom_classes": [],
            "_model_module": "@jupyter-widgets/controls",
            "_model_module_version": "1.5.0",
            "_model_name": "FloatProgressModel",
            "_view_count": null,
            "_view_module": "@jupyter-widgets/controls",
            "_view_module_version": "1.5.0",
            "_view_name": "ProgressView",
            "bar_style": "success",
            "description": "",
            "description_tooltip": null,
            "layout": "IPY_MODEL_3c1ec2638f7847809b10c01af32ba399",
            "max": 2,
            "min": 0,
            "orientation": "horizontal",
            "style": "IPY_MODEL_972b52a7f2cf44fe93f26f08c0f4088f",
            "value": 2
          }
        },
        "4a0a90492e3848b8be4650342ea4380f": {
          "model_module": "@jupyter-widgets/controls",
          "model_name": "HTMLModel",
          "model_module_version": "1.5.0",
          "state": {
            "_dom_classes": [],
            "_model_module": "@jupyter-widgets/controls",
            "_model_module_version": "1.5.0",
            "_model_name": "HTMLModel",
            "_view_count": null,
            "_view_module": "@jupyter-widgets/controls",
            "_view_module_version": "1.5.0",
            "_view_name": "HTMLView",
            "description": "",
            "description_tooltip": null,
            "layout": "IPY_MODEL_09776904939d40bfbc43a6dfa1e281aa",
            "placeholder": "​",
            "style": "IPY_MODEL_1559395815174a5c9811fa04c0a23d3a",
            "value": " 2/2 [00:45&lt;00:00, 21.35s/it]"
          }
        },
        "49c6e6aa811e41529053eec6847eb299": {
          "model_module": "@jupyter-widgets/base",
          "model_name": "LayoutModel",
          "model_module_version": "1.2.0",
          "state": {
            "_model_module": "@jupyter-widgets/base",
            "_model_module_version": "1.2.0",
            "_model_name": "LayoutModel",
            "_view_count": null,
            "_view_module": "@jupyter-widgets/base",
            "_view_module_version": "1.2.0",
            "_view_name": "LayoutView",
            "align_content": null,
            "align_items": null,
            "align_self": null,
            "border": null,
            "bottom": null,
            "display": null,
            "flex": null,
            "flex_flow": null,
            "grid_area": null,
            "grid_auto_columns": null,
            "grid_auto_flow": null,
            "grid_auto_rows": null,
            "grid_column": null,
            "grid_gap": null,
            "grid_row": null,
            "grid_template_areas": null,
            "grid_template_columns": null,
            "grid_template_rows": null,
            "height": null,
            "justify_content": null,
            "justify_items": null,
            "left": null,
            "margin": null,
            "max_height": null,
            "max_width": null,
            "min_height": null,
            "min_width": null,
            "object_fit": null,
            "object_position": null,
            "order": null,
            "overflow": null,
            "overflow_x": null,
            "overflow_y": null,
            "padding": null,
            "right": null,
            "top": null,
            "visibility": null,
            "width": null
          }
        },
        "abe2f725d204489297dc2b2d320599f5": {
          "model_module": "@jupyter-widgets/base",
          "model_name": "LayoutModel",
          "model_module_version": "1.2.0",
          "state": {
            "_model_module": "@jupyter-widgets/base",
            "_model_module_version": "1.2.0",
            "_model_name": "LayoutModel",
            "_view_count": null,
            "_view_module": "@jupyter-widgets/base",
            "_view_module_version": "1.2.0",
            "_view_name": "LayoutView",
            "align_content": null,
            "align_items": null,
            "align_self": null,
            "border": null,
            "bottom": null,
            "display": null,
            "flex": null,
            "flex_flow": null,
            "grid_area": null,
            "grid_auto_columns": null,
            "grid_auto_flow": null,
            "grid_auto_rows": null,
            "grid_column": null,
            "grid_gap": null,
            "grid_row": null,
            "grid_template_areas": null,
            "grid_template_columns": null,
            "grid_template_rows": null,
            "height": null,
            "justify_content": null,
            "justify_items": null,
            "left": null,
            "margin": null,
            "max_height": null,
            "max_width": null,
            "min_height": null,
            "min_width": null,
            "object_fit": null,
            "object_position": null,
            "order": null,
            "overflow": null,
            "overflow_x": null,
            "overflow_y": null,
            "padding": null,
            "right": null,
            "top": null,
            "visibility": null,
            "width": null
          }
        },
        "ac5a716a13e24e0dacc9c5e55dfaa2b0": {
          "model_module": "@jupyter-widgets/controls",
          "model_name": "DescriptionStyleModel",
          "model_module_version": "1.5.0",
          "state": {
            "_model_module": "@jupyter-widgets/controls",
            "_model_module_version": "1.5.0",
            "_model_name": "DescriptionStyleModel",
            "_view_count": null,
            "_view_module": "@jupyter-widgets/base",
            "_view_module_version": "1.2.0",
            "_view_name": "StyleView",
            "description_width": ""
          }
        },
        "3c1ec2638f7847809b10c01af32ba399": {
          "model_module": "@jupyter-widgets/base",
          "model_name": "LayoutModel",
          "model_module_version": "1.2.0",
          "state": {
            "_model_module": "@jupyter-widgets/base",
            "_model_module_version": "1.2.0",
            "_model_name": "LayoutModel",
            "_view_count": null,
            "_view_module": "@jupyter-widgets/base",
            "_view_module_version": "1.2.0",
            "_view_name": "LayoutView",
            "align_content": null,
            "align_items": null,
            "align_self": null,
            "border": null,
            "bottom": null,
            "display": null,
            "flex": null,
            "flex_flow": null,
            "grid_area": null,
            "grid_auto_columns": null,
            "grid_auto_flow": null,
            "grid_auto_rows": null,
            "grid_column": null,
            "grid_gap": null,
            "grid_row": null,
            "grid_template_areas": null,
            "grid_template_columns": null,
            "grid_template_rows": null,
            "height": null,
            "justify_content": null,
            "justify_items": null,
            "left": null,
            "margin": null,
            "max_height": null,
            "max_width": null,
            "min_height": null,
            "min_width": null,
            "object_fit": null,
            "object_position": null,
            "order": null,
            "overflow": null,
            "overflow_x": null,
            "overflow_y": null,
            "padding": null,
            "right": null,
            "top": null,
            "visibility": null,
            "width": null
          }
        },
        "972b52a7f2cf44fe93f26f08c0f4088f": {
          "model_module": "@jupyter-widgets/controls",
          "model_name": "ProgressStyleModel",
          "model_module_version": "1.5.0",
          "state": {
            "_model_module": "@jupyter-widgets/controls",
            "_model_module_version": "1.5.0",
            "_model_name": "ProgressStyleModel",
            "_view_count": null,
            "_view_module": "@jupyter-widgets/base",
            "_view_module_version": "1.2.0",
            "_view_name": "StyleView",
            "bar_color": null,
            "description_width": ""
          }
        },
        "09776904939d40bfbc43a6dfa1e281aa": {
          "model_module": "@jupyter-widgets/base",
          "model_name": "LayoutModel",
          "model_module_version": "1.2.0",
          "state": {
            "_model_module": "@jupyter-widgets/base",
            "_model_module_version": "1.2.0",
            "_model_name": "LayoutModel",
            "_view_count": null,
            "_view_module": "@jupyter-widgets/base",
            "_view_module_version": "1.2.0",
            "_view_name": "LayoutView",
            "align_content": null,
            "align_items": null,
            "align_self": null,
            "border": null,
            "bottom": null,
            "display": null,
            "flex": null,
            "flex_flow": null,
            "grid_area": null,
            "grid_auto_columns": null,
            "grid_auto_flow": null,
            "grid_auto_rows": null,
            "grid_column": null,
            "grid_gap": null,
            "grid_row": null,
            "grid_template_areas": null,
            "grid_template_columns": null,
            "grid_template_rows": null,
            "height": null,
            "justify_content": null,
            "justify_items": null,
            "left": null,
            "margin": null,
            "max_height": null,
            "max_width": null,
            "min_height": null,
            "min_width": null,
            "object_fit": null,
            "object_position": null,
            "order": null,
            "overflow": null,
            "overflow_x": null,
            "overflow_y": null,
            "padding": null,
            "right": null,
            "top": null,
            "visibility": null,
            "width": null
          }
        },
        "1559395815174a5c9811fa04c0a23d3a": {
          "model_module": "@jupyter-widgets/controls",
          "model_name": "DescriptionStyleModel",
          "model_module_version": "1.5.0",
          "state": {
            "_model_module": "@jupyter-widgets/controls",
            "_model_module_version": "1.5.0",
            "_model_name": "DescriptionStyleModel",
            "_view_count": null,
            "_view_module": "@jupyter-widgets/base",
            "_view_module_version": "1.2.0",
            "_view_name": "StyleView",
            "description_width": ""
          }
        }
      }
    }
  },
  "cells": [
    {
      "cell_type": "markdown",
      "metadata": {
        "id": "view-in-github",
        "colab_type": "text"
      },
      "source": [
        "<a href=\"https://colab.research.google.com/github/Donny2stroke/ArtificialIntelligence/blob/main/TestiamoQuesto.ipynb\" target=\"_parent\"><img src=\"https://colab.research.google.com/assets/colab-badge.svg\" alt=\"Open In Colab\"/></a>"
      ]
    },
    {
      "cell_type": "code",
      "execution_count": null,
      "metadata": {
        "id": "txFWGXuIrRGu"
      },
      "outputs": [],
      "source": [
        "!pip install transformers torch accelerate bitsandbytes"
      ]
    },
    {
      "cell_type": "code",
      "source": [
        "!huggingface-cli login"
      ],
      "metadata": {
        "id": "FvIJtNMHrjGL"
      },
      "execution_count": null,
      "outputs": []
    },
    {
      "cell_type": "code",
      "source": [
        "!huggingface-cli whoami"
      ],
      "metadata": {
        "id": "X19jey4crkoA"
      },
      "execution_count": null,
      "outputs": []
    },
    {
      "cell_type": "code",
      "source": [
        "import transformers\n",
        "from transformers import AutoModelForCausalLM, AutoTokenizer\n",
        "\n",
        "model_id = \"swap-uniba/LLaMAntino-2-chat-7b-hf-UltraChat-ITA\"\n",
        "\n",
        "tokenizer = AutoTokenizer.from_pretrained(model_id)\n",
        "model = AutoModelForCausalLM.from_pretrained(model_id, load_in_8bit=True)"
      ],
      "metadata": {
        "colab": {
          "base_uri": "https://localhost:8080/",
          "height": 138,
          "referenced_widgets": [
            "2ee0778a9db348d7a82ac1e00f51c201",
            "459d2709534f47e396100c2039ed0e96",
            "da34cbc2d7094d6db5d3dd9efd728693",
            "4a0a90492e3848b8be4650342ea4380f",
            "49c6e6aa811e41529053eec6847eb299",
            "abe2f725d204489297dc2b2d320599f5",
            "ac5a716a13e24e0dacc9c5e55dfaa2b0",
            "3c1ec2638f7847809b10c01af32ba399",
            "972b52a7f2cf44fe93f26f08c0f4088f",
            "09776904939d40bfbc43a6dfa1e281aa",
            "1559395815174a5c9811fa04c0a23d3a"
          ]
        },
        "id": "aS63K4WdaJR9",
        "outputId": "8fd21706-7af2-4a18-b994-f7ce3ac0dcf0"
      },
      "execution_count": null,
      "outputs": [
        {
          "output_type": "display_data",
          "data": {
            "text/plain": [
              "Loading checkpoint shards:   0%|          | 0/2 [00:00<?, ?it/s]"
            ],
            "application/vnd.jupyter.widget-view+json": {
              "version_major": 2,
              "version_minor": 0,
              "model_id": "2ee0778a9db348d7a82ac1e00f51c201"
            }
          },
          "metadata": {}
        },
        {
          "output_type": "stream",
          "name": "stderr",
          "text": [
            "/usr/local/lib/python3.10/dist-packages/transformers/generation/configuration_utils.py:381: UserWarning: `do_sample` is set to `False`. However, `temperature` is set to `0.9` -- this flag is only used in sample-based generation modes. You should set `do_sample=True` or unset `temperature`. This was detected when initializing the generation config instance, which means the corresponding file may hold incorrect parameterization and should be fixed.\n",
            "  warnings.warn(\n",
            "/usr/local/lib/python3.10/dist-packages/transformers/generation/configuration_utils.py:386: UserWarning: `do_sample` is set to `False`. However, `top_p` is set to `0.6` -- this flag is only used in sample-based generation modes. You should set `do_sample=True` or unset `top_p`. This was detected when initializing the generation config instance, which means the corresponding file may hold incorrect parameterization and should be fixed.\n",
            "  warnings.warn(\n"
          ]
        }
      ]
    },
    {
      "cell_type": "markdown",
      "source": [
        "METODO 1 (NO)"
      ],
      "metadata": {
        "id": "75mONSdRaaLz"
      }
    },
    {
      "cell_type": "code",
      "source": [
        "user_msg = \"Ciao! Come stai?\"\n",
        "\n",
        "prompt = \" [INST]<<SYS>>\\n\" \\\n",
        "         \"Sei un assistente disponibile, rispettoso e onesto. \" \\\n",
        "         \"Rispondi sempre nel modo piu' utile possibile, pur essendo sicuro. \" \\\n",
        "         \"Le risposte non devono includere contenuti dannosi, non etici, razzisti, sessisti, tossici, pericolosi o illegali. \" \\\n",
        "         \"Assicurati che le tue risposte siano socialmente imparziali e positive. \" \\\n",
        "         \"Se una domanda non ha senso o non e' coerente con i fatti, spiegane il motivo invece di rispondere in modo non corretto. \" \\\n",
        "         \"Se non conosci la risposta a una domanda, non condividere informazioni false.\\n\" \\\n",
        "         \"<</SYS>>\\n\\n\" \\\n",
        "         f\"{user_msg}[/INST]\"\n",
        "\n",
        "pipe = transformers.pipeline(\n",
        "    model=model,\n",
        "    tokenizer=tokenizer,\n",
        "    return_full_text=False, # langchain expects the full text\n",
        "    task='text-generation',\n",
        "    max_new_tokens=512, # max number of tokens to generate in the output\n",
        "    temperature=0.8  #temperature for more or less creative answers\n",
        ")\n",
        "\n",
        "# Method 1\n",
        "sequences = pipe(\"La capitale Italiana?\")\n",
        "for seq in sequences:\n",
        "    print(f\"{seq['generated_text']}\")\n"
      ],
      "metadata": {
        "id": "wut3ia8srl4F"
      },
      "execution_count": null,
      "outputs": []
    },
    {
      "cell_type": "markdown",
      "source": [
        "METODO 2 (SI)"
      ],
      "metadata": {
        "id": "M8lO4PA6af1M"
      }
    },
    {
      "cell_type": "code",
      "source": [
        "user_msg = \"La capitale Francese?\"\n",
        "prompt = \" [INST]<<SYS>>\\n\" \\\n",
        "         \"Sei un assistente disponibile, rispettoso e onesto. \" \\\n",
        "         \"Rispondi sempre nel modo piu' utile possibile, pur essendo sicuro. \" \\\n",
        "         \"Le risposte non devono includere contenuti dannosi, non etici, razzisti, sessisti, tossici, pericolosi o illegali. \" \\\n",
        "         \"Assicurati che le tue risposte siano socialmente imparziali e positive. \" \\\n",
        "         \"Se una domanda non ha senso o non e' coerente con i fatti, spiegane il motivo invece di rispondere in modo non corretto. \" \\\n",
        "         \"Se non conosci la risposta a una domanda, non condividere informazioni false.\\n\" \\\n",
        "         \"<</SYS>>\\n\\n\" \\\n",
        "         f\"{user_msg}[/INST]\"\n",
        "# Method 2\n",
        "input_ids = tokenizer(prompt, return_tensors=\"pt\").input_ids\n",
        "outputs = model.generate(input_ids=input_ids, max_length=512)\n",
        "print(tokenizer.batch_decode(outputs.detach().cpu().numpy()[:, input_ids.shape[1]:], skip_special_tokens=True)[0])"
      ],
      "metadata": {
        "id": "ySjSyOMgUuwj"
      },
      "execution_count": null,
      "outputs": []
    },
    {
      "cell_type": "markdown",
      "source": [
        "PROGRAMMINO CHATBOT"
      ],
      "metadata": {
        "id": "esvjM2QEaiOz"
      }
    },
    {
      "cell_type": "code",
      "source": [
        "import warnings\n",
        "warnings.filterwarnings('ignore')"
      ],
      "metadata": {
        "id": "jPT6n09Pd8jT"
      },
      "execution_count": null,
      "outputs": []
    },
    {
      "cell_type": "code",
      "source": [
        "while True:\n",
        "    user_msg = input(\"You: \")\n",
        "    if user_msg.lower() in [\"bye\", \"quit\", \"exit\", \"esci\"]:\n",
        "        print(\"Chatbot: Goodbye!\")\n",
        "        break\n",
        "    prompt = \" [INST]<<SYS>>\\n\" \\\n",
        "         \"Sei un assistente disponibile, rispettoso e onesto. \" \\\n",
        "         \"Rispondi sempre nel modo piu' utile possibile, pur essendo sicuro. \" \\\n",
        "         \"Le risposte non devono includere contenuti dannosi, non etici, razzisti, sessisti, tossici, pericolosi o illegali. \" \\\n",
        "         \"Assicurati che le tue risposte siano socialmente imparziali e positive. \" \\\n",
        "         \"Se una domanda non ha senso o non e' coerente con i fatti, spiegane il motivo invece di rispondere in modo non corretto. \" \\\n",
        "         \"Se non conosci la risposta a una domanda, non condividere informazioni false.\\n\" \\\n",
        "         \"<</SYS>>\\n\\n\" \\\n",
        "         f\"{user_msg}[/INST]\"\n",
        "    input_ids = tokenizer(prompt, return_tensors=\"pt\").input_ids\n",
        "    outputs = model.generate(input_ids=input_ids, max_length=512)\n",
        "    print(tokenizer.batch_decode(outputs.detach().cpu().numpy()[:, input_ids.shape[1]:], skip_special_tokens=True)[0])"
      ],
      "metadata": {
        "id": "ayQY32opZUsU",
        "colab": {
          "base_uri": "https://localhost:8080/"
        },
        "outputId": "4d8646ab-250c-4606-e13f-eeb69414b6c3"
      },
      "execution_count": null,
      "outputs": [
        {
          "output_type": "stream",
          "name": "stdout",
          "text": [
            "You: Qual è la capitala dell'Italia?\n",
            "La capitale dell'Italia è Roma.\n",
            "You: Qual è la capitale della Francia?\n",
            "La capitale della Francia è Parigi.\n",
            "You: In che anno è scoppiata la terza guerra mondiale?\n",
            "La terza guerra mondiale scoppiò nel 1914.\n",
            "You: exit\n",
            "Chatbot: Goodbye!\n"
          ]
        }
      ]
    }
  ]
}